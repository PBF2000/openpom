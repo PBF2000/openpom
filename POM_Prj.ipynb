{
  "cells": [
    {
      "cell_type": "markdown",
      "metadata": {
        "id": "view-in-github",
        "colab_type": "text"
      },
      "source": [
        "<a href=\"https://colab.research.google.com/github/PBF2000/openpom/blob/main/POM_Prj.ipynb\" target=\"_parent\"><img src=\"https://colab.research.google.com/assets/colab-badge.svg\" alt=\"Open In Colab\"/></a>"
      ]
    },
    {
      "cell_type": "code",
      "execution_count": 3,
      "metadata": {
        "colab": {
          "base_uri": "https://localhost:8080/"
        },
        "id": "tGHitsmTHmOr",
        "outputId": "a1760a19-8d62-4eb6-f193-f0c056c3f36b"
      },
      "outputs": [
        {
          "output_type": "stream",
          "name": "stdout",
          "text": [
            "Cloning into 'openpom'...\n",
            "remote: Enumerating objects: 277, done.\u001b[K\n",
            "remote: Counting objects: 100% (92/92), done.\u001b[K\n",
            "remote: Compressing objects: 100% (56/56), done.\u001b[K\n",
            "remote: Total 277 (delta 48), reused 36 (delta 36), pack-reused 185 (from 1)\u001b[K\n",
            "Receiving objects: 100% (277/277), 22.85 MiB | 19.50 MiB/s, done.\n",
            "Resolving deltas: 100% (136/136), done.\n"
          ]
        }
      ],
      "source": [
        "# @title Cloning & Instalment\n",
        "!git clone https://github.com/PBF2000/openpom.git\n",
        "!pip install dgl-cu117 -f https://data.dgl.ai/wheels/cu117/repo.html\n",
        "!pip install deepchem\n",
        "!pip install dgl==1.1.1 -f https://data.dgl.ai/wheels/cu122/repo.html"
      ]
    },
    {
      "cell_type": "code",
      "execution_count": 2,
      "metadata": {
        "id": "utOTMqp6Hp9L"
      },
      "outputs": [],
      "source": [
        "# %cd openpom\n",
        "# !pip install .\n",
        "# %cd openpom\n",
        "# !python setup.py develop\n",
        "\n",
        "# !nvcc --version\n",
        "# import dgl\n",
        "# print(dgl.__version__)"
      ]
    },
    {
      "cell_type": "code",
      "source": [],
      "metadata": {
        "id": "LR_qi6_9_AbY"
      },
      "execution_count": null,
      "outputs": []
    }
  ],
  "metadata": {
    "colab": {
      "provenance": [],
      "authorship_tag": "ABX9TyOCpLOx89aIOfzw6txnkZNZ",
      "include_colab_link": true
    },
    "kernelspec": {
      "display_name": "Python 3",
      "name": "python3"
    },
    "language_info": {
      "name": "python"
    }
  },
  "nbformat": 4,
  "nbformat_minor": 0
}